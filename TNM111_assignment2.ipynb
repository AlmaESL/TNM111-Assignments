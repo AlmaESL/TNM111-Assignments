{
  "nbformat": 4,
  "nbformat_minor": 0,
  "metadata": {
    "colab": {
      "provenance": []
    },
    "kernelspec": {
      "name": "python3",
      "display_name": "Python 3"
    },
    "language_info": {
      "name": "python"
    }
  },
  "cells": [
    {
      "cell_type": "code",
      "execution_count": 1,
      "metadata": {
        "colab": {
          "base_uri": "https://localhost:8080/"
        },
        "collapsed": true,
        "outputId": "41bfd18a-4895-4f1e-8833-584a7d7aafb3",
        "id": "tHkw5yprf5O3"
      },
      "outputs": [
        {
          "output_type": "stream",
          "name": "stdout",
          "text": [
            "Requirement already satisfied: pandas in /usr/local/lib/python3.11/dist-packages (2.2.2)\n",
            "Requirement already satisfied: numpy>=1.23.2 in /usr/local/lib/python3.11/dist-packages (from pandas) (1.26.4)\n",
            "Requirement already satisfied: python-dateutil>=2.8.2 in /usr/local/lib/python3.11/dist-packages (from pandas) (2.8.2)\n",
            "Requirement already satisfied: pytz>=2020.1 in /usr/local/lib/python3.11/dist-packages (from pandas) (2024.2)\n",
            "Requirement already satisfied: tzdata>=2022.7 in /usr/local/lib/python3.11/dist-packages (from pandas) (2025.1)\n",
            "Requirement already satisfied: six>=1.5 in /usr/local/lib/python3.11/dist-packages (from python-dateutil>=2.8.2->pandas) (1.17.0)\n",
            "Collecting gradio\n",
            "  Downloading gradio-5.14.0-py3-none-any.whl.metadata (16 kB)\n",
            "Collecting aiofiles<24.0,>=22.0 (from gradio)\n",
            "  Downloading aiofiles-23.2.1-py3-none-any.whl.metadata (9.7 kB)\n",
            "Requirement already satisfied: anyio<5.0,>=3.0 in /usr/local/lib/python3.11/dist-packages (from gradio) (3.7.1)\n",
            "Collecting fastapi<1.0,>=0.115.2 (from gradio)\n",
            "  Downloading fastapi-0.115.8-py3-none-any.whl.metadata (27 kB)\n",
            "Collecting ffmpy (from gradio)\n",
            "  Downloading ffmpy-0.5.0-py3-none-any.whl.metadata (3.0 kB)\n",
            "Collecting gradio-client==1.7.0 (from gradio)\n",
            "  Downloading gradio_client-1.7.0-py3-none-any.whl.metadata (7.1 kB)\n",
            "Requirement already satisfied: httpx>=0.24.1 in /usr/local/lib/python3.11/dist-packages (from gradio) (0.28.1)\n",
            "Requirement already satisfied: huggingface-hub>=0.25.1 in /usr/local/lib/python3.11/dist-packages (from gradio) (0.27.1)\n",
            "Requirement already satisfied: jinja2<4.0 in /usr/local/lib/python3.11/dist-packages (from gradio) (3.1.5)\n",
            "Collecting markupsafe~=2.0 (from gradio)\n",
            "  Downloading MarkupSafe-2.1.5-cp311-cp311-manylinux_2_17_x86_64.manylinux2014_x86_64.whl.metadata (3.0 kB)\n",
            "Requirement already satisfied: numpy<3.0,>=1.0 in /usr/local/lib/python3.11/dist-packages (from gradio) (1.26.4)\n",
            "Requirement already satisfied: orjson~=3.0 in /usr/local/lib/python3.11/dist-packages (from gradio) (3.10.15)\n",
            "Requirement already satisfied: packaging in /usr/local/lib/python3.11/dist-packages (from gradio) (24.2)\n",
            "Requirement already satisfied: pandas<3.0,>=1.0 in /usr/local/lib/python3.11/dist-packages (from gradio) (2.2.2)\n",
            "Requirement already satisfied: pillow<12.0,>=8.0 in /usr/local/lib/python3.11/dist-packages (from gradio) (11.1.0)\n",
            "Requirement already satisfied: pydantic>=2.0 in /usr/local/lib/python3.11/dist-packages (from gradio) (2.10.6)\n",
            "Collecting pydub (from gradio)\n",
            "  Downloading pydub-0.25.1-py2.py3-none-any.whl.metadata (1.4 kB)\n",
            "Collecting python-multipart>=0.0.18 (from gradio)\n",
            "  Downloading python_multipart-0.0.20-py3-none-any.whl.metadata (1.8 kB)\n",
            "Requirement already satisfied: pyyaml<7.0,>=5.0 in /usr/local/lib/python3.11/dist-packages (from gradio) (6.0.2)\n",
            "Collecting ruff>=0.9.3 (from gradio)\n",
            "  Downloading ruff-0.9.4-py3-none-manylinux_2_17_x86_64.manylinux2014_x86_64.whl.metadata (25 kB)\n",
            "Collecting safehttpx<0.2.0,>=0.1.6 (from gradio)\n",
            "  Downloading safehttpx-0.1.6-py3-none-any.whl.metadata (4.2 kB)\n",
            "Collecting semantic-version~=2.0 (from gradio)\n",
            "  Downloading semantic_version-2.10.0-py2.py3-none-any.whl.metadata (9.7 kB)\n",
            "Collecting starlette<1.0,>=0.40.0 (from gradio)\n",
            "  Downloading starlette-0.45.3-py3-none-any.whl.metadata (6.3 kB)\n",
            "Collecting tomlkit<0.14.0,>=0.12.0 (from gradio)\n",
            "  Downloading tomlkit-0.13.2-py3-none-any.whl.metadata (2.7 kB)\n",
            "Requirement already satisfied: typer<1.0,>=0.12 in /usr/local/lib/python3.11/dist-packages (from gradio) (0.15.1)\n",
            "Requirement already satisfied: typing-extensions~=4.0 in /usr/local/lib/python3.11/dist-packages (from gradio) (4.12.2)\n",
            "Collecting uvicorn>=0.14.0 (from gradio)\n",
            "  Downloading uvicorn-0.34.0-py3-none-any.whl.metadata (6.5 kB)\n",
            "Requirement already satisfied: fsspec in /usr/local/lib/python3.11/dist-packages (from gradio-client==1.7.0->gradio) (2024.10.0)\n",
            "Requirement already satisfied: websockets<15.0,>=10.0 in /usr/local/lib/python3.11/dist-packages (from gradio-client==1.7.0->gradio) (14.2)\n",
            "Requirement already satisfied: idna>=2.8 in /usr/local/lib/python3.11/dist-packages (from anyio<5.0,>=3.0->gradio) (3.10)\n",
            "Requirement already satisfied: sniffio>=1.1 in /usr/local/lib/python3.11/dist-packages (from anyio<5.0,>=3.0->gradio) (1.3.1)\n",
            "Requirement already satisfied: certifi in /usr/local/lib/python3.11/dist-packages (from httpx>=0.24.1->gradio) (2024.12.14)\n",
            "Requirement already satisfied: httpcore==1.* in /usr/local/lib/python3.11/dist-packages (from httpx>=0.24.1->gradio) (1.0.7)\n",
            "Requirement already satisfied: h11<0.15,>=0.13 in /usr/local/lib/python3.11/dist-packages (from httpcore==1.*->httpx>=0.24.1->gradio) (0.14.0)\n",
            "Requirement already satisfied: filelock in /usr/local/lib/python3.11/dist-packages (from huggingface-hub>=0.25.1->gradio) (3.17.0)\n",
            "Requirement already satisfied: requests in /usr/local/lib/python3.11/dist-packages (from huggingface-hub>=0.25.1->gradio) (2.32.3)\n",
            "Requirement already satisfied: tqdm>=4.42.1 in /usr/local/lib/python3.11/dist-packages (from huggingface-hub>=0.25.1->gradio) (4.67.1)\n",
            "Requirement already satisfied: python-dateutil>=2.8.2 in /usr/local/lib/python3.11/dist-packages (from pandas<3.0,>=1.0->gradio) (2.8.2)\n",
            "Requirement already satisfied: pytz>=2020.1 in /usr/local/lib/python3.11/dist-packages (from pandas<3.0,>=1.0->gradio) (2024.2)\n",
            "Requirement already satisfied: tzdata>=2022.7 in /usr/local/lib/python3.11/dist-packages (from pandas<3.0,>=1.0->gradio) (2025.1)\n",
            "Requirement already satisfied: annotated-types>=0.6.0 in /usr/local/lib/python3.11/dist-packages (from pydantic>=2.0->gradio) (0.7.0)\n",
            "Requirement already satisfied: pydantic-core==2.27.2 in /usr/local/lib/python3.11/dist-packages (from pydantic>=2.0->gradio) (2.27.2)\n",
            "Requirement already satisfied: click>=8.0.0 in /usr/local/lib/python3.11/dist-packages (from typer<1.0,>=0.12->gradio) (8.1.8)\n",
            "Requirement already satisfied: shellingham>=1.3.0 in /usr/local/lib/python3.11/dist-packages (from typer<1.0,>=0.12->gradio) (1.5.4)\n",
            "Requirement already satisfied: rich>=10.11.0 in /usr/local/lib/python3.11/dist-packages (from typer<1.0,>=0.12->gradio) (13.9.4)\n",
            "Requirement already satisfied: six>=1.5 in /usr/local/lib/python3.11/dist-packages (from python-dateutil>=2.8.2->pandas<3.0,>=1.0->gradio) (1.17.0)\n",
            "Requirement already satisfied: markdown-it-py>=2.2.0 in /usr/local/lib/python3.11/dist-packages (from rich>=10.11.0->typer<1.0,>=0.12->gradio) (3.0.0)\n",
            "Requirement already satisfied: pygments<3.0.0,>=2.13.0 in /usr/local/lib/python3.11/dist-packages (from rich>=10.11.0->typer<1.0,>=0.12->gradio) (2.18.0)\n",
            "Requirement already satisfied: charset-normalizer<4,>=2 in /usr/local/lib/python3.11/dist-packages (from requests->huggingface-hub>=0.25.1->gradio) (3.4.1)\n",
            "Requirement already satisfied: urllib3<3,>=1.21.1 in /usr/local/lib/python3.11/dist-packages (from requests->huggingface-hub>=0.25.1->gradio) (2.3.0)\n",
            "Requirement already satisfied: mdurl~=0.1 in /usr/local/lib/python3.11/dist-packages (from markdown-it-py>=2.2.0->rich>=10.11.0->typer<1.0,>=0.12->gradio) (0.1.2)\n",
            "Downloading gradio-5.14.0-py3-none-any.whl (57.7 MB)\n",
            "\u001b[2K   \u001b[90m━━━━━━━━━━━━━━━━━━━━━━━━━━━━━━━━━━━━━━━━\u001b[0m \u001b[32m57.7/57.7 MB\u001b[0m \u001b[31m9.2 MB/s\u001b[0m eta \u001b[36m0:00:00\u001b[0m\n",
            "\u001b[?25hDownloading gradio_client-1.7.0-py3-none-any.whl (321 kB)\n",
            "\u001b[2K   \u001b[90m━━━━━━━━━━━━━━━━━━━━━━━━━━━━━━━━━━━━━━━━\u001b[0m \u001b[32m321.9/321.9 kB\u001b[0m \u001b[31m15.5 MB/s\u001b[0m eta \u001b[36m0:00:00\u001b[0m\n",
            "\u001b[?25hDownloading aiofiles-23.2.1-py3-none-any.whl (15 kB)\n",
            "Downloading fastapi-0.115.8-py3-none-any.whl (94 kB)\n",
            "\u001b[2K   \u001b[90m━━━━━━━━━━━━━━━━━━━━━━━━━━━━━━━━━━━━━━━━\u001b[0m \u001b[32m94.8/94.8 kB\u001b[0m \u001b[31m6.6 MB/s\u001b[0m eta \u001b[36m0:00:00\u001b[0m\n",
            "\u001b[?25hDownloading MarkupSafe-2.1.5-cp311-cp311-manylinux_2_17_x86_64.manylinux2014_x86_64.whl (28 kB)\n",
            "Downloading python_multipart-0.0.20-py3-none-any.whl (24 kB)\n",
            "Downloading ruff-0.9.4-py3-none-manylinux_2_17_x86_64.manylinux2014_x86_64.whl (12.4 MB)\n",
            "\u001b[2K   \u001b[90m━━━━━━━━━━━━━━━━━━━━━━━━━━━━━━━━━━━━━━━━\u001b[0m \u001b[32m12.4/12.4 MB\u001b[0m \u001b[31m59.2 MB/s\u001b[0m eta \u001b[36m0:00:00\u001b[0m\n",
            "\u001b[?25hDownloading safehttpx-0.1.6-py3-none-any.whl (8.7 kB)\n",
            "Downloading semantic_version-2.10.0-py2.py3-none-any.whl (15 kB)\n",
            "Downloading starlette-0.45.3-py3-none-any.whl (71 kB)\n",
            "\u001b[2K   \u001b[90m━━━━━━━━━━━━━━━━━━━━━━━━━━━━━━━━━━━━━━━━\u001b[0m \u001b[32m71.5/71.5 kB\u001b[0m \u001b[31m4.6 MB/s\u001b[0m eta \u001b[36m0:00:00\u001b[0m\n",
            "\u001b[?25hDownloading tomlkit-0.13.2-py3-none-any.whl (37 kB)\n",
            "Downloading uvicorn-0.34.0-py3-none-any.whl (62 kB)\n",
            "\u001b[2K   \u001b[90m━━━━━━━━━━━━━━━━━━━━━━━━━━━━━━━━━━━━━━━━\u001b[0m \u001b[32m62.3/62.3 kB\u001b[0m \u001b[31m2.3 MB/s\u001b[0m eta \u001b[36m0:00:00\u001b[0m\n",
            "\u001b[?25hDownloading ffmpy-0.5.0-py3-none-any.whl (6.0 kB)\n",
            "Downloading pydub-0.25.1-py2.py3-none-any.whl (32 kB)\n",
            "Installing collected packages: pydub, uvicorn, tomlkit, semantic-version, ruff, python-multipart, markupsafe, ffmpy, aiofiles, starlette, safehttpx, gradio-client, fastapi, gradio\n",
            "  Attempting uninstall: markupsafe\n",
            "    Found existing installation: MarkupSafe 3.0.2\n",
            "    Uninstalling MarkupSafe-3.0.2:\n",
            "      Successfully uninstalled MarkupSafe-3.0.2\n",
            "\u001b[31mERROR: pip's dependency resolver does not currently take into account all the packages that are installed. This behaviour is the source of the following dependency conflicts.\n",
            "torch 2.5.1+cu124 requires nvidia-cublas-cu12==12.4.5.8; platform_system == \"Linux\" and platform_machine == \"x86_64\", but you have nvidia-cublas-cu12 12.5.3.2 which is incompatible.\n",
            "torch 2.5.1+cu124 requires nvidia-cuda-cupti-cu12==12.4.127; platform_system == \"Linux\" and platform_machine == \"x86_64\", but you have nvidia-cuda-cupti-cu12 12.5.82 which is incompatible.\n",
            "torch 2.5.1+cu124 requires nvidia-cuda-nvrtc-cu12==12.4.127; platform_system == \"Linux\" and platform_machine == \"x86_64\", but you have nvidia-cuda-nvrtc-cu12 12.5.82 which is incompatible.\n",
            "torch 2.5.1+cu124 requires nvidia-cuda-runtime-cu12==12.4.127; platform_system == \"Linux\" and platform_machine == \"x86_64\", but you have nvidia-cuda-runtime-cu12 12.5.82 which is incompatible.\n",
            "torch 2.5.1+cu124 requires nvidia-cudnn-cu12==9.1.0.70; platform_system == \"Linux\" and platform_machine == \"x86_64\", but you have nvidia-cudnn-cu12 9.3.0.75 which is incompatible.\n",
            "torch 2.5.1+cu124 requires nvidia-cufft-cu12==11.2.1.3; platform_system == \"Linux\" and platform_machine == \"x86_64\", but you have nvidia-cufft-cu12 11.2.3.61 which is incompatible.\n",
            "torch 2.5.1+cu124 requires nvidia-curand-cu12==10.3.5.147; platform_system == \"Linux\" and platform_machine == \"x86_64\", but you have nvidia-curand-cu12 10.3.6.82 which is incompatible.\n",
            "torch 2.5.1+cu124 requires nvidia-cusolver-cu12==11.6.1.9; platform_system == \"Linux\" and platform_machine == \"x86_64\", but you have nvidia-cusolver-cu12 11.6.3.83 which is incompatible.\n",
            "torch 2.5.1+cu124 requires nvidia-cusparse-cu12==12.3.1.170; platform_system == \"Linux\" and platform_machine == \"x86_64\", but you have nvidia-cusparse-cu12 12.5.1.3 which is incompatible.\n",
            "torch 2.5.1+cu124 requires nvidia-nvjitlink-cu12==12.4.127; platform_system == \"Linux\" and platform_machine == \"x86_64\", but you have nvidia-nvjitlink-cu12 12.5.82 which is incompatible.\u001b[0m\u001b[31m\n",
            "\u001b[0mSuccessfully installed aiofiles-23.2.1 fastapi-0.115.8 ffmpy-0.5.0 gradio-5.14.0 gradio-client-1.7.0 markupsafe-2.1.5 pydub-0.25.1 python-multipart-0.0.20 ruff-0.9.4 safehttpx-0.1.6 semantic-version-2.10.0 starlette-0.45.3 tomlkit-0.13.2 uvicorn-0.34.0\n"
          ]
        }
      ],
      "source": [
        "!pip install pandas #csv\n",
        "import pandas as pd\n",
        "!pip install gradio #gui\n",
        "import gradio as gr"
      ]
    },
    {
      "cell_type": "markdown",
      "source": [
        "**Function to read CSV file**"
      ],
      "metadata": {
        "id": "PekgllBlDAQM"
      }
    },
    {
      "cell_type": "code",
      "source": [
        "def read_csv(file):\n",
        "    df = pd.read_csv(file.name)\n",
        "    return df"
      ],
      "metadata": {
        "id": "nrYUIPa_C8eh"
      },
      "execution_count": 2,
      "outputs": []
    },
    {
      "cell_type": "markdown",
      "source": [
        "**class of scatter plot**"
      ],
      "metadata": {
        "id": "I6Hhkb_JFW8b"
      }
    },
    {
      "cell_type": "code",
      "source": [
        "class ScatterPlot:\n",
        "    def __init__(self, df, x, y, category):\n",
        "        self.df = df\n",
        "        self.x = x\n",
        "        self.y = y\n",
        "        self.category = category\n",
        "\n",
        "        self.svg_width, self.svg_height = 500, 500\n",
        "        self.svg_margin = 80\n",
        "\n",
        "        self.shapes = [\"circle\", \"rectangle\", \"polygon\"]\n",
        "        self.category2shape = {cat: self.shapes[i % len(self.shapes)] for i, cat in enumerate(self.df[self.category].unique())}\n",
        "\n",
        "        self.svg_elements = []\n",
        "\n",
        "    #create svg with the plot elments -> called after csv has been uploaded\n",
        "    def generate_svg(self):\n",
        "        self.calculate_min_max()\n",
        "        self.draw_grid()\n",
        "        self.draw_axes()\n",
        "        self.draw_ticks()\n",
        "        self.plot_points()\n",
        "        self.create_legend()\n",
        "\n",
        "        svg_content = f'<svg width=\"{self.svg_width}\" height=\"{self.svg_height}\" style=\"background-color: white;\">' + \"\".join(self.svg_elements) + '\\n</svg>'\n",
        "\n",
        "        #js script to implement click interaction to the svg and its elements\n",
        "        svg_content += \"\"\"\n",
        "        <script>\n",
        "\n",
        "        //variables to keep track of the selected point and the nearest points\n",
        "        let selected_origin = null;\n",
        "        let nearest_points = [];\n",
        "\n",
        "        //function to switch origin to selected point on left mouse click\n",
        "        function switch_origin(event) {\n",
        "          const clicked_point = event.target;\n",
        "          if (clicked_point.tagName === 'circle' || clicked_point.tagName === 'rectangle' || clicked_point.tagName === 'polygon') {\n",
        "            const point_id = clicked_point.getAttribute('id');\n",
        "\n",
        "        }\n",
        "\n",
        "        //function to get the 5 nearest points\n",
        "\n",
        "        //function to compute the euclidean distance between 2 points\n",
        "        function eudlidean_dist(p1, p2) {\n",
        "          return Math.sqrt(Math.pow(p1[0] - p2[0], 2) + Math.pow(p1[1] - p2[1], 2));\n",
        "        }\n",
        "\n",
        "        </script>\n",
        "        \"\"\"\n",
        "\n",
        "        return svg_content\n",
        "\n",
        "    def calculate_min_max(self):\n",
        "        self.x_min, self.x_max = self.df[self.x].min(), self.df[self.x].max()\n",
        "        self.y_min, self.y_max = self.df[self.y].min(), self.df[self.y].max()\n",
        "\n",
        "    def draw_axes(self):\n",
        "       #draw axes along the margin\n",
        "       self.svg_elements.append(f'<line x1=\"{self.svg_margin}\" y1=\"{self.svg_height - self.svg_margin}\" x2=\"{self.svg_width - self.svg_margin}\" y2=\"{self.svg_height - self.svg_margin}\" stroke=\"black\"/>')\n",
        "       self.svg_elements.append(f'<line x1=\"{self.svg_margin}\" y1=\"{self.svg_margin}\" x2=\"{self.svg_margin}\" y2=\"{self.svg_height - self.svg_margin}\" stroke=\"black\"/>')\n",
        "\n",
        "\n",
        "    def draw_grid(self):\n",
        "        for i in range(1, 7):\n",
        "\n",
        "            #find and draw grid lines aligned with the tick marks\n",
        "            x_tick = self.svg_margin + i * (self.svg_width - self.svg_margin) / 8\n",
        "            y_tick = self.svg_margin + i * (self.svg_height - self.svg_margin) / 8\n",
        "\n",
        "            self.svg_elements.append(f'<line x1=\"{x_tick}\" y1=\"{self.svg_margin}\" x2=\"{x_tick}\" y2=\"{self.svg_height - self.svg_margin}\" stroke=\"lightgray\" stroke-dasharray=\"2,2\"/>')\n",
        "            self.svg_elements.append(f'<line x1=\"{self.svg_margin}\" y1=\"{y_tick}\" x2=\"{self.svg_width - self.svg_margin}\" y2=\"{y_tick}\" stroke=\"lightgray\" stroke-dasharray=\"2,2\"/>')\n",
        "\n",
        "\n",
        "    def draw_ticks(self):\n",
        "        #tick mark length\n",
        "        tick_length = 5\n",
        "\n",
        "        for i in range(7):\n",
        "            #draw tickmark on x axis at even spacing (width-margin)/8 (8 chunks for the 8 ticks)\n",
        "            x_tick = self.svg_margin + i * (self.svg_width - self.svg_margin) / 8\n",
        "            #draw tickmark on y axis at even spacing (height-margin)/8 (8 chunks for the 8 ticks)\n",
        "            y_tick = self.svg_margin + i * (self.svg_height - self.svg_margin) / 8\n",
        "\n",
        "            #compute x tick values as the spacing in relation to the min x value\n",
        "            x_tick_value = self.x_min + (self.x_max - self.x_min) * i / 8\n",
        "            #compute y tick values as the spacing in relation to the min y value\n",
        "            y_tick_value = self.y_min + (self.y_max - self.y_min) * (8 - i) / 8\n",
        "\n",
        "            #append tick marks and tick values to the svg\n",
        "            self.svg_elements.append(f'<line x1=\"{x_tick}\" y1=\"{self.svg_height - self.svg_margin}\" x2=\"{x_tick}\" y2=\"{self.svg_height - self.svg_margin + tick_length}\" stroke=\"black\"/>')\n",
        "            self.svg_elements.append(f'<text x=\"{x_tick}\" y=\"{self.svg_height - self.svg_margin + 15}\" font-size=\"10\" text-anchor=\"middle\">{round(x_tick_value, 2)}</text>')\n",
        "            self.svg_elements.append(f'<line x1=\"{self.svg_margin - tick_length}\" y1=\"{y_tick}\" x2=\"{self.svg_margin}\" y2=\"{y_tick}\" stroke=\"black\"/>')\n",
        "            self.svg_elements.append(f'<text x=\"{self.svg_margin - 30}\" y=\"{y_tick + 3}\" font-size=\"10\" text-anchor=\"end\">{round(y_tick_value, 2)}</text>')\n",
        "\n",
        "\n",
        "    def plot_points(self):\n",
        "        for _, row in self.df.iterrows():\n",
        "            #iterate the data points and normalize their values and hence their position to match the scale of the plot\n",
        "            x_pos = self.normalize(row[self.x], self.x_min, self.x_max, self.svg_margin, self.svg_width - self.svg_margin)\n",
        "            y_pos = self.normalize(row[self.y], self.y_min, self.y_max, self.svg_height - self.svg_margin, self.svg_margin)\n",
        "            #extract the category shape from the category name\n",
        "            shape = self.category2shape[row[self.category]]\n",
        "\n",
        "            if shape == \"circle\":\n",
        "                self.svg_elements.append(f'<circle cx=\"{x_pos}\" cy=\"{y_pos}\" r=\"5\" fill=\"blue\"/>')\n",
        "            elif shape == \"rectangle\":\n",
        "                self.svg_elements.append(f'<rect x=\"{x_pos-4}\" y=\"{y_pos-4}\" width=\"8\" height=\"8\" fill=\"blue\"/>')\n",
        "            elif shape == \"polygon\":\n",
        "                self.svg_elements.append(f'<polygon points=\"{x_pos-5},{y_pos+5} {x_pos+5},{y_pos+5} {x_pos},{y_pos-5}\" fill=\"blue\"/>')\n",
        "\n",
        "\n",
        "    def create_legend(self):\n",
        "        #position legend box\n",
        "        legend_x, legend_y = self.svg_width - 50, self.svg_margin\n",
        "\n",
        "        for i, (category, shape) in enumerate(self.category2shape.items()):\n",
        "            #vertical separation of object classes\n",
        "            y_pos = legend_y + i * 20\n",
        "\n",
        "            #draw shape and class\n",
        "            if shape == \"circle\":\n",
        "                self.svg_elements.append(f'<circle cx=\"{legend_x}\" cy=\"{y_pos}\" r=\"5\" fill=\"blue\"/>')\n",
        "            elif shape == \"rectangle\":\n",
        "                self.svg_elements.append(f'<rect x=\"{legend_x-5}\" y=\"{y_pos-5}\" width=\"10\" height=\"10\" fill=\"blue\"/>')\n",
        "            elif shape == \"polygon\":\n",
        "                self.svg_elements.append(f'<polygon points=\"{legend_x-5},{y_pos+5} {legend_x+5},{y_pos+5} {legend_x},{y_pos-5}\" fill=\"blue\"/>')\n",
        "            self.svg_elements.append(f'<text x=\"{legend_x + 15}\" y=\"{y_pos + 3}\" font-size=\"10\">{category}</text>')\n",
        "\n",
        "\n",
        "    #linearly map values to svg scope\n",
        "    def normalize(self, value, data_min, data_max, svg_min, svg_max):\n",
        "        #y =      m    +          x          *                     k\n",
        "        return svg_min +  (value - data_min) * (svg_max - svg_min) / (data_max - data_min)"
      ],
      "metadata": {
        "id": "X0eZf3gwveQ-"
      },
      "execution_count": 3,
      "outputs": []
    },
    {
      "cell_type": "markdown",
      "source": [
        "**Function to upload CSV in Gradio**"
      ],
      "metadata": {
        "id": "k4Z7EgjFN7MC"
      }
    },
    {
      "cell_type": "code",
      "source": [
        "def upload_file(file):\n",
        "\n",
        "    #read CSV file\n",
        "    df = pd.read_csv(file.name)\n",
        "\n",
        "    #convert table to html object to enable scrolling\n",
        "    df_html = df.to_html(index=False) #remove indexing from table\n",
        "    scrollable_table = f'<div style=\"max-height: 300px; overflow:auto;\">{df_html}</div>'\n",
        "\n",
        "    #extract numerical columns for the axes\n",
        "    numerical_columns = df.select_dtypes(include=[\"number\"]).columns.tolist()\n",
        "    x_col, y_col = numerical_columns[:2]\n",
        "\n",
        "    #extract category column for the category name and shape\n",
        "    category_columns = df.select_dtypes(exclude=[\"number\"]).columns.tolist()\n",
        "    category = category_columns[0]\n",
        "\n",
        "    #call scatter plot class for read csv\n",
        "    scatter_plot = ScatterPlot(df, x_col, y_col, category)\n",
        "\n",
        "    #generate a scatter plot svg from the scatter plot clalss\n",
        "    svg_content = scatter_plot.generate_svg()\n",
        "\n",
        "    return scrollable_table, svg_content"
      ],
      "metadata": {
        "id": "Pf-g_-zMGkdS"
      },
      "execution_count": 4,
      "outputs": []
    },
    {
      "cell_type": "markdown",
      "source": [
        "**create and launch gradio interface**"
      ],
      "metadata": {
        "id": "6D5_UtzbMxzZ"
      }
    },
    {
      "cell_type": "code",
      "source": [
        "#use CSV reading as input\n",
        "demo = gr.Interface(\n",
        "    fn=upload_file,\n",
        "    inputs=\"file\",\n",
        "    #CSV reading outputs two html objects\n",
        "    outputs=[\"html\", \"html\"],\n",
        "    title=\"Scatter plot\",\n",
        "    description=\"Upload a CSV file by dragging or clicking. Hit 'submit' to show scatter plot <br>Left click: Recenter with respects to selected point <br>Right click: Show 5 nearest points to selected point <br>Click 'Clear' to upload a new CSV file\"\n",
        ")\n",
        "\n",
        "demo.launch()"
      ],
      "metadata": {
        "colab": {
          "base_uri": "https://localhost:8080/",
          "height": 646
        },
        "id": "P9E3BZP2f5O4",
        "outputId": "61217d38-3b6a-48c2-ad6f-844d10993784"
      },
      "execution_count": 5,
      "outputs": [
        {
          "output_type": "stream",
          "name": "stdout",
          "text": [
            "Running Gradio in a Colab notebook requires sharing enabled. Automatically setting `share=True` (you can turn this off by setting `share=False` in `launch()` explicitly).\n",
            "\n",
            "Colab notebook detected. To show errors in colab notebook, set debug=True in launch()\n",
            "* Running on public URL: https://f92640b748748ea31b.gradio.live\n",
            "\n",
            "This share link expires in 72 hours. For free permanent hosting and GPU upgrades, run `gradio deploy` from the terminal in the working directory to deploy to Hugging Face Spaces (https://huggingface.co/spaces)\n"
          ]
        },
        {
          "output_type": "display_data",
          "data": {
            "text/plain": [
              "<IPython.core.display.HTML object>"
            ],
            "text/html": [
              "<div><iframe src=\"https://f92640b748748ea31b.gradio.live\" width=\"100%\" height=\"500\" allow=\"autoplay; camera; microphone; clipboard-read; clipboard-write;\" frameborder=\"0\" allowfullscreen></iframe></div>"
            ]
          },
          "metadata": {}
        },
        {
          "output_type": "execute_result",
          "data": {
            "text/plain": []
          },
          "metadata": {},
          "execution_count": 5
        }
      ]
    },
    {
      "cell_type": "code",
      "source": [],
      "metadata": {
        "id": "zeiIS052XGI-"
      },
      "execution_count": null,
      "outputs": []
    }
  ]
}